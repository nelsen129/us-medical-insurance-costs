{
 "cells": [
  {
   "cell_type": "markdown",
   "metadata": {},
   "source": [
    "# U.S. Medical Insurance Costs"
   ]
  },
  {
   "cell_type": "markdown",
   "metadata": {},
   "source": [
    "## Data Parsing\n",
    "We have a csv file with insurance costs in the U.S., containing age, bmi, sex, number of children, smoker status, and geographical region. The following blocks of code load the data and saves it to relevant variables. \n",
    "\n",
    "`insurance_data` contains all of the csv data as a dictionary, with the key being the id (row index).\n",
    "`ages`, `bmis`, `sexes`, `children_nums`, `smokers`, `regions`, and `costs` are all Numpy arrays containing the related data in the same order."
   ]
  },
  {
   "cell_type": "code",
   "execution_count": 1,
   "metadata": {},
   "outputs": [],
   "source": [
    "import csv\n",
    "import numpy as np"
   ]
  },
  {
   "cell_type": "code",
   "execution_count": 2,
   "metadata": {},
   "outputs": [
    {
     "name": "stdout",
     "output_type": "stream",
     "text": [
      "Index 0 data: {'age': '19', 'sex': 'female', 'bmi': '27.9', 'children': '0', 'smoker': 'yes', 'region': 'southwest', 'charges': '16884.924'}\n",
      "There are 1338 datapoints in this dataset\n"
     ]
    }
   ],
   "source": [
    "insurance_data = {}\n",
    "\n",
    "with open('insurance.csv') as insurance_csv:\n",
    "    insurance_dict_reader = csv.DictReader(insurance_csv)\n",
    "    for i, row in enumerate(insurance_dict_reader):\n",
    "        insurance_data[i] = row  # The row number becomes the id.\n",
    "\n",
    "print(f'Index 0 data: {insurance_data[0]}')\n",
    "print(f'There are {len(insurance_data.keys())} datapoints in this dataset')"
   ]
  },
  {
   "cell_type": "code",
   "execution_count": 3,
   "metadata": {},
   "outputs": [
    {
     "name": "stdout",
     "output_type": "stream",
     "text": [
      "First 10 ages: [19. 18. 28. 33. 32. 31. 46. 37. 37. 60.]\n"
     ]
    }
   ],
   "source": [
    "# Initialize the data variables as empty lists.\n",
    "ages = []\n",
    "bmis = []\n",
    "sexes = []\n",
    "children_nums = []\n",
    "smokers = []\n",
    "regions = []\n",
    "costs = []\n",
    "\n",
    "# Add the data to each list.\n",
    "for idx in range(len(insurance_data.keys())):\n",
    "    ages.append(insurance_data[idx]['age'])\n",
    "    bmis.append(insurance_data[idx]['bmi'])\n",
    "    sexes.append(insurance_data[idx]['sex'])\n",
    "    children_nums.append(insurance_data[idx]['children'])\n",
    "    smokers.append(insurance_data[idx]['smoker'])\n",
    "    regions.append(insurance_data[idx]['region'])\n",
    "    costs.append(insurance_data[idx]['charges'])\n",
    "    \n",
    "# Convert data variables to Numpy arrays.\n",
    "ages = np.array(ages, dtype=float)\n",
    "bmis = np.array(bmis)\n",
    "sexes = np.array(sexes)\n",
    "children_nums = np.array(children_nums)\n",
    "smokers = np.array(smokers)\n",
    "regions = np.array(regions)\n",
    "costs = np.array(costs)\n",
    "\n",
    "print(f'First 10 ages: {ages[:10]}')"
   ]
  },
  {
   "cell_type": "markdown",
   "metadata": {},
   "source": [
    "## Linear Regression"
   ]
  },
  {
   "cell_type": "code",
   "execution_count": 4,
   "metadata": {},
   "outputs": [],
   "source": [
    "def get_y(m, b, x):\n",
    "    return m * x + b"
   ]
  },
  {
   "cell_type": "code",
   "execution_count": 5,
   "metadata": {},
   "outputs": [],
   "source": [
    "def get_error(m, b, points):\n",
    "    points_x = points[:, 0]\n",
    "    points_y = points[:, 1]\n",
    "    return np.abs(points_y - get_y(m, b, points_x))"
   ]
  },
  {
   "cell_type": "code",
   "execution_count": 6,
   "metadata": {},
   "outputs": [],
   "source": [
    "def linear_regression(ms, bs, points):\n",
    "    m_best = 0\n",
    "    b_best = 0\n",
    "    error = float('inf')\n",
    "    for m in ms:\n",
    "        for b in bs:\n",
    "            if error < get_error(m, b, points).mean():\n",
    "                continue\n",
    "            error = get_error(m, b, points).mean()\n",
    "            m_best = m\n",
    "            b_best = b\n",
    "    return m_best, b_best"
   ]
  },
  {
   "cell_type": "markdown",
   "metadata": {},
   "source": [
    "## Age Analysis"
   ]
  },
  {
   "cell_type": "code",
   "execution_count": 7,
   "metadata": {},
   "outputs": [],
   "source": [
    "from matplotlib import pyplot as plt"
   ]
  },
  {
   "cell_type": "code",
   "execution_count": 8,
   "metadata": {},
   "outputs": [
    {
     "name": "stdout",
     "output_type": "stream",
     "text": [
      "Average age: 39.20702541106129\n"
     ]
    }
   ],
   "source": [
    "print(f'Average age: {ages.mean()}')"
   ]
  },
  {
   "cell_type": "code",
   "execution_count": 9,
   "metadata": {},
   "outputs": [],
   "source": [
    "# Find the unique ages, and then calculate the average cost per unique age\n",
    "ages_unique = np.unique(ages)\n",
    "avg_cost_per_age = np.array([np.array(costs[ages==i], dtype=float).mean() for i in ages_unique])\n",
    "ages_costs = np.stack([ages_unique, avg_cost_per_age], axis=-1)"
   ]
  },
  {
   "cell_type": "code",
   "execution_count": 10,
   "metadata": {},
   "outputs": [
    {
     "data": {
      "image/png": "[encoded data removed]",
      "text/plain": [
       "<Figure size 432x288 with 1 Axes>"
      ]
     },
     "metadata": {
      "needs_background": "light"
     },
     "output_type": "display_data"
    }
   ],
   "source": [
    "# Plot ages_costs to get rough idea of trendline\n",
    "plt.plot(ages_costs[:, 0], ages_costs[:, 1], 'bo')\n",
    "plt.show()"
   ]
  },
  {
   "cell_type": "code",
   "execution_count": null,
   "metadata": {},
   "outputs": [],
   "source": [
    "# From that, we have rough idea of the correlation to get ms and bs for linear regression\n",
    "ms = np.arange(200., 300., 0.1)\n",
    "bs = np.arange(2500, 3500, 0.5)\n",
    "m, b = linear_regression(ms, bs, ages_costs)\n",
    "print(m, b, get_error(m, b, ages_costs).mean())"
   ]
  },
  {
   "cell_type": "code",
   "execution_count": null,
   "metadata": {},
   "outputs": [],
   "source": [
    "# From the linear regression, we got m=253.5 and b=3078.5. Here, we'll plot that\n",
    "predicted_ys = get_y(m, b, ages_costs[:, 0])\n",
    "plt.plot(ages_costs[:, 0], ages_costs[:, 1], 'bo', ages_costs[:, 0], predicted_ys)\n",
    "plt.show()"
   ]
  },
  {
   "cell_type": "code",
   "execution_count": null,
   "metadata": {},
   "outputs": [],
   "source": []
  }
 ],
 "metadata": {
  "kernelspec": {
   "display_name": "Python 3 (ipykernel)",
   "language": "python",
   "name": "python3"
  },
  "language_info": {
   "codemirror_mode": {
    "name": "ipython",
    "version": 3
   },
   "file_extension": ".py",
   "mimetype": "text/x-python",
   "name": "python",
   "nbconvert_exporter": "python",
   "pygments_lexer": "ipython3",
   "version": "3.9.7"
  }
 },
 "nbformat": 4,
 "nbformat_minor": 4
}
