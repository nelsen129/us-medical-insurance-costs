{
 "cells": [
  {
   "cell_type": "markdown",
   "metadata": {},
   "source": [
    "# U.S. Medical Insurance Costs"
   ]
  },
  {
   "cell_type": "markdown",
   "metadata": {},
   "source": [
    "## Data Parsing\n",
    "We have a csv file with insurance costs in the U.S., containing age, bmi, sex, number of children, smoker status, and geographical region. The following blocks of code load the data and saves it to relevant variables. \n",
    "\n",
    "`insurance_data` contains all of the csv data as a dictionary, with the key being the id (row index).\n",
    "`ages`, `bmis`, `sexes`, `children_nums`, `smokers`, `regions`, and `costs` are all Numpy arrays containing the related data in the same order."
   ]
  },
  {
   "cell_type": "code",
   "execution_count": 1,
   "metadata": {},
   "outputs": [],
   "source": [
    "import csv\n",
    "import numpy as np\n",
    "from matplotlib import pyplot as plt\n",
    "from tqdm.notebook import tqdm"
   ]
  },
  {
   "cell_type": "code",
   "execution_count": 2,
   "metadata": {},
   "outputs": [
    {
     "name": "stdout",
     "output_type": "stream",
     "text": [
      "Index 0 data: {'age': '19', 'sex': 'female', 'bmi': '27.9', 'children': '0', 'smoker': 'yes', 'region': 'southwest', 'charges': '16884.924'}\n",
      "There are 1338 datapoints in this dataset\n"
     ]
    }
   ],
   "source": [
    "insurance_data = {}\n",
    "\n",
    "with open('insurance.csv') as insurance_csv:\n",
    "    insurance_dict_reader = csv.DictReader(insurance_csv)\n",
    "    for i, row in enumerate(insurance_dict_reader):\n",
    "        insurance_data[i] = row  # The row number becomes the id.\n",
    "\n",
    "print(f'Index 0 data: {insurance_data[0]}')\n",
    "print(f'There are {len(insurance_data.keys())} datapoints in this dataset')"
   ]
  },
  {
   "cell_type": "code",
   "execution_count": 3,
   "metadata": {
    "scrolled": true
   },
   "outputs": [
    {
     "name": "stdout",
     "output_type": "stream",
     "text": [
      "First 10 ages: [19. 18. 28. 33. 32. 31. 46. 37. 37. 60.]\n"
     ]
    }
   ],
   "source": [
    "# Initialize the data variables as empty lists.\n",
    "ages = []\n",
    "bmis = []\n",
    "sexes = []\n",
    "children_nums = []\n",
    "smokers = []\n",
    "regions = []\n",
    "costs = []\n",
    "\n",
    "# Lookup tables for string values\n",
    "smoker_dict = {'yes': 1, 'no': 0}\n",
    "sexes_dict = {'female': 1, 'male': 0}\n",
    "regions_dict = {'northwest': 0, 'northeast': 1, 'southeast': 2, 'southwest': 3}\n",
    "\n",
    "# Add the data to each list.\n",
    "for idx in range(len(insurance_data.keys())):\n",
    "    ages.append(insurance_data[idx]['age'])\n",
    "    bmis.append(insurance_data[idx]['bmi'])\n",
    "    sexes.append(sexes_dict[insurance_data[idx]['sex']])\n",
    "    children_nums.append(insurance_data[idx]['children'])\n",
    "    smokers.append(smoker_dict[insurance_data[idx]['smoker']])\n",
    "    regions.append(regions_dict[insurance_data[idx]['region']])\n",
    "    costs.append(insurance_data[idx]['charges'])\n",
    "    \n",
    "# Convert data variables to Numpy arrays.\n",
    "ages = np.array(ages, dtype=float)\n",
    "bmis = np.array(bmis, dtype=float)\n",
    "sexes = np.array(sexes, dtype=float)\n",
    "children_nums = np.array(children_nums, dtype=float)\n",
    "smokers = np.array(smokers, dtype=float)\n",
    "regions = np.array(regions, dtype=float)\n",
    "costs = np.array(costs, dtype=float)\n",
    "\n",
    "print(f'First 10 ages: {ages[:10]}')"
   ]
  },
  {
   "cell_type": "markdown",
   "metadata": {},
   "source": [
    "## Linear Regression"
   ]
  },
  {
   "cell_type": "code",
   "execution_count": 4,
   "metadata": {},
   "outputs": [],
   "source": [
    "def get_y(m, b, x):\n",
    "    return m * x + b"
   ]
  },
  {
   "cell_type": "code",
   "execution_count": 5,
   "metadata": {},
   "outputs": [],
   "source": [
    "def get_error(m, b, points):\n",
    "    points_x = points[:, 0]\n",
    "    points_y = points[:, 1]\n",
    "    return np.abs(points_y - get_y(m, b, points_x))"
   ]
  },
  {
   "cell_type": "code",
   "execution_count": 6,
   "metadata": {},
   "outputs": [],
   "source": [
    "def linear_regression(ms, bs, points):\n",
    "    m_best = 0\n",
    "    b_best = 0\n",
    "    error = float('inf')\n",
    "    for m in ms:\n",
    "        for b in bs:\n",
    "            if error < get_error(m, b, points).mean():\n",
    "                continue\n",
    "            error = get_error(m, b, points).mean()\n",
    "            m_best = m\n",
    "            b_best = b\n",
    "    return m_best, b_best"
   ]
  },
  {
   "cell_type": "code",
   "execution_count": 7,
   "metadata": {},
   "outputs": [],
   "source": [
    "def get_range_array(center, tolerance_percent=0.1, steps=100):\n",
    "    if abs(center) > 10:\n",
    "        start = center * (1 - tolerance_percent)\n",
    "        stop = center * (1 + tolerance_percent)\n",
    "    else:\n",
    "        start = center - tolerance_percent * steps / 2\n",
    "        stop = center + tolerance_percent * steps / 2\n",
    "    increment = (stop - start) / steps\n",
    "    return np.arange(start, stop+increment, increment)"
   ]
  },
  {
   "cell_type": "code",
   "execution_count": 8,
   "metadata": {},
   "outputs": [],
   "source": [
    "def run_linear_regressions(points, initial_m=250., initial_b=3000.):\n",
    "    m_best = initial_m\n",
    "    b_best = initial_b\n",
    "    for tolerance in [1e1, 1e0, 1e-1, 1e-2, 1e-3]:\n",
    "        m_range = get_range_array(m_best, tolerance)\n",
    "        b_range = get_range_array(b_best, tolerance)\n",
    "        m_best, b_best = linear_regression(m_range, b_range, points)\n",
    "        \n",
    "        # Recenter if any of values are at the edges\n",
    "        move_counter = 0\n",
    "        while m_best in [m_range.min(), m_range.max()] or b_best in [b_range.min(), b_range.max()]:\n",
    "            m_range = get_range_array(m_best, tolerance)\n",
    "            b_range = get_range_array(b_best, tolerance)\n",
    "            m_best, b_best = linear_regression(m_range, b_range, points)\n",
    "            move_counter += 1\n",
    "            if move_counter > 100:\n",
    "                break\n",
    "    return m_best, b_best"
   ]
  },
  {
   "cell_type": "code",
   "execution_count": 9,
   "metadata": {},
   "outputs": [],
   "source": [
    "def get_unique_and_significant_values(values):\n",
    "    values_unique, values_counts = np.unique(values, return_counts=True)\n",
    "    # Values are significant if they represent more than (data / # of values * 20%)\n",
    "    values_significant = np.array([unique for unique, count in zip(values_unique, values_counts)\n",
    "                                   if count > float(len(values)) / float(len(values_unique)) * 0.2])\n",
    "    return values_unique, values_significant"
   ]
  },
  {
   "cell_type": "markdown",
   "metadata": {},
   "source": [
    "## Age Analysis"
   ]
  },
  {
   "cell_type": "code",
   "execution_count": 10,
   "metadata": {},
   "outputs": [
    {
     "name": "stdout",
     "output_type": "stream",
     "text": [
      "Average age: 39.20702541106129\n"
     ]
    }
   ],
   "source": [
    "print(f'Average age: {ages.mean()}')"
   ]
  },
  {
   "cell_type": "code",
   "execution_count": 11,
   "metadata": {},
   "outputs": [],
   "source": [
    "# Find the unique ages, and then calculate the average cost per unique age\n",
    "ages_unique, ages_significant = get_unique_and_significant_values(ages)\n",
    "avg_cost_per_age = np.array([np.array(costs[ages==i], dtype=float).mean() for i in ages_significant])\n",
    "ages_costs = np.stack([ages_significant, avg_cost_per_age], axis=-1)"
   ]
  },
  {
   "cell_type": "code",
   "execution_count": 12,
   "metadata": {},
   "outputs": [
    {
     "name": "stdout",
     "output_type": "stream",
     "text": [
      "253.46636682595246 3079.635454108041 1816.387347274485\n"
     ]
    }
   ],
   "source": [
    "m_age, b_age = run_linear_regressions(ages_costs, 10000, 3000)\n",
    "print(m_age, b_age, get_error(m_age, b_age, ages_costs).mean())"
   ]
  },
  {
   "cell_type": "code",
   "execution_count": 13,
   "metadata": {},
   "outputs": [
    {
     "data": {
      "image/png": "[encoded data removed]",
      "text/plain": [
       "<Figure size 432x288 with 1 Axes>"
      ]
     },
     "metadata": {
      "needs_background": "light"
     },
     "output_type": "display_data"
    }
   ],
   "source": [
    "# From the linear regression, we got m=253.5 and b=3078.5. Here, we'll plot that\n",
    "predicted_ys = get_y(m_age, b_age, ages_costs[:, 0])\n",
    "plt.plot(ages_costs[:, 0], ages_costs[:, 1], 'bo', ages_costs[:, 0], predicted_ys)\n",
    "plt.show()"
   ]
  },
  {
   "cell_type": "markdown",
   "metadata": {},
   "source": [
    "## BMI Analysis"
   ]
  },
  {
   "cell_type": "code",
   "execution_count": 14,
   "metadata": {},
   "outputs": [
    {
     "name": "stdout",
     "output_type": "stream",
     "text": [
      "Average BMI: 30.66339686098655\n"
     ]
    }
   ],
   "source": [
    "print(f'Average BMI: {bmis.mean()}')"
   ]
  },
  {
   "cell_type": "code",
   "execution_count": 15,
   "metadata": {},
   "outputs": [],
   "source": [
    "bmis_rounded = np.around(bmis)\n",
    "bmis_unique, bmis_significant = get_unique_and_significant_values(bmis_rounded)\n",
    "avg_cost_per_bmi = np.array([np.array(costs[bmis_rounded==i], dtype=float).mean() for i in bmis_significant])\n",
    "bmis_costs = np.stack([bmis_significant, avg_cost_per_bmi], axis=-1)"
   ]
  },
  {
   "cell_type": "code",
   "execution_count": 16,
   "metadata": {},
   "outputs": [
    {
     "name": "stdout",
     "output_type": "stream",
     "text": [
      "441.00000000000244 22.98574027599991 1750.8574163459207\n"
     ]
    }
   ],
   "source": [
    "m_bmi, b_bmi = run_linear_regressions(bmis_costs)\n",
    "print(m_bmi, b_bmi, get_error(m_bmi, b_bmi, bmis_costs).mean())"
   ]
  },
  {
   "cell_type": "code",
   "execution_count": 17,
   "metadata": {},
   "outputs": [
    {
     "data": {
      "image/png": "[encoded data removed]",
      "text/plain": [
       "<Figure size 432x288 with 1 Axes>"
      ]
     },
     "metadata": {
      "needs_background": "light"
     },
     "output_type": "display_data"
    }
   ],
   "source": [
    "# Plot the results of the linear regression\n",
    "predicted_ys = get_y(m_bmi, b_bmi, bmis_costs[:, 0])\n",
    "plt.plot(bmis_costs[:, 0], bmis_costs[:, 1], 'bo', bmis_costs[:, 0], predicted_ys)\n",
    "plt.show()"
   ]
  },
  {
   "cell_type": "markdown",
   "metadata": {},
   "source": [
    "## Child Analysis"
   ]
  },
  {
   "cell_type": "code",
   "execution_count": 18,
   "metadata": {},
   "outputs": [
    {
     "name": "stdout",
     "output_type": "stream",
     "text": [
      "Average number of children: 1.0949177877429\n"
     ]
    }
   ],
   "source": [
    "print(f'Average number of children: {children_nums.mean()}')"
   ]
  },
  {
   "cell_type": "code",
   "execution_count": 19,
   "metadata": {},
   "outputs": [],
   "source": [
    "children_unique, children_significant = get_unique_and_significant_values(children_nums)\n",
    "avg_cost_per_children = np.array([np.array(costs[children_nums==i], dtype=float).mean() \n",
    "                                  for i in children_significant])\n",
    "children_costs = np.stack([children_significant, avg_cost_per_children], axis=-1)"
   ]
  },
  {
   "cell_type": "code",
   "execution_count": 20,
   "metadata": {
    "scrolled": true
   },
   "outputs": [
    {
     "name": "stdout",
     "output_type": "stream",
     "text": [
      "996.4832147683242 12365.861669798367 336.50741802591847\n"
     ]
    }
   ],
   "source": [
    "m_children, b_children = run_linear_regressions(children_costs)\n",
    "print(m_children, b_children, get_error(m_children, b_children, children_costs).mean())"
   ]
  },
  {
   "cell_type": "code",
   "execution_count": 21,
   "metadata": {},
   "outputs": [
    {
     "data": {
      "image/png": "[encoded data removed]",
      "text/plain": [
       "<Figure size 432x288 with 1 Axes>"
      ]
     },
     "metadata": {
      "needs_background": "light"
     },
     "output_type": "display_data"
    }
   ],
   "source": [
    "# Plot the results of the linear regression\n",
    "predicted_ys = get_y(m_children, b_children, children_costs[:, 0])\n",
    "plt.plot(children_costs[:, 0], children_costs[:, 1], 'bo', children_costs[:, 0], predicted_ys)\n",
    "plt.show()"
   ]
  },
  {
   "cell_type": "markdown",
   "metadata": {},
   "source": [
    "## Smoker Analysis"
   ]
  },
  {
   "cell_type": "code",
   "execution_count": 22,
   "metadata": {},
   "outputs": [
    {
     "name": "stdout",
     "output_type": "stream",
     "text": [
      "Percentage of smokers in dataset: 20.5%\n"
     ]
    }
   ],
   "source": [
    "print(f'Percentage of smokers in dataset: {smokers.mean()*100:0.1f}%')"
   ]
  },
  {
   "cell_type": "code",
   "execution_count": 23,
   "metadata": {},
   "outputs": [],
   "source": [
    "smoker_unique, smoker_significant = get_unique_and_significant_values(smokers)\n",
    "avg_cost_per_smoker = np.array([np.array(costs[smokers==i], dtype=float).mean() \n",
    "                                  for i in smoker_significant])\n",
    "smoker_costs = np.stack([smoker_significant, avg_cost_per_smoker], axis=-1)"
   ]
  },
  {
   "cell_type": "code",
   "execution_count": 24,
   "metadata": {},
   "outputs": [
    {
     "name": "stdout",
     "output_type": "stream",
     "text": [
      "23615.963533676637\n"
     ]
    }
   ],
   "source": [
    "m_smoker = smoker_costs[1, 1] - smoker_costs[0, 1]\n",
    "print(m_smoker)"
   ]
  },
  {
   "cell_type": "code",
   "execution_count": 25,
   "metadata": {},
   "outputs": [
    {
     "data": {
      "image/png": "[encoded data removed]",
      "text/plain": [
       "<Figure size 432x288 with 1 Axes>"
      ]
     },
     "metadata": {
      "needs_background": "light"
     },
     "output_type": "display_data"
    }
   ],
   "source": [
    "plt.bar(smoker_costs[:, 0], smoker_costs[:, 1], tick_label=['Smoker', 'Non-smoker'])\n",
    "plt.show()"
   ]
  },
  {
   "cell_type": "markdown",
   "metadata": {},
   "source": [
    "## Sex Analysis"
   ]
  },
  {
   "cell_type": "code",
   "execution_count": 26,
   "metadata": {},
   "outputs": [
    {
     "name": "stdout",
     "output_type": "stream",
     "text": [
      "Percentage of women in dataset: 49.5%\n"
     ]
    }
   ],
   "source": [
    "print(f'Percentage of women in dataset: {sexes.mean()*100:0.1f}%')"
   ]
  },
  {
   "cell_type": "code",
   "execution_count": 27,
   "metadata": {},
   "outputs": [],
   "source": [
    "sex_unique, sex_significant = get_unique_and_significant_values(sexes)\n",
    "avg_cost_per_sex = np.array([np.array(costs[sexes==i], dtype=float).mean() \n",
    "                                  for i in sex_significant])\n",
    "sex_costs = np.stack([sex_significant, avg_cost_per_sex], axis=-1)"
   ]
  },
  {
   "cell_type": "code",
   "execution_count": 28,
   "metadata": {},
   "outputs": [
    {
     "name": "stdout",
     "output_type": "stream",
     "text": [
      "-1387.1723338865468\n"
     ]
    }
   ],
   "source": [
    "m_sex = sex_costs[1, 1] - sex_costs[0, 1]\n",
    "print(m_sex)"
   ]
  },
  {
   "cell_type": "code",
   "execution_count": 29,
   "metadata": {},
   "outputs": [
    {
     "data": {
      "image/png": "[encoded data removed]",
      "text/plain": [
       "<Figure size 432x288 with 1 Axes>"
      ]
     },
     "metadata": {
      "needs_background": "light"
     },
     "output_type": "display_data"
    }
   ],
   "source": [
    "plt.bar(sex_costs[:, 0], sex_costs[:, 1], tick_label=['Male', 'Female'])\n",
    "plt.show()"
   ]
  },
  {
   "cell_type": "markdown",
   "metadata": {},
   "source": [
    "## Region Analysis"
   ]
  },
  {
   "cell_type": "code",
   "execution_count": 30,
   "metadata": {},
   "outputs": [
    {
     "name": "stdout",
     "output_type": "stream",
     "text": [
      "Percentage of each region in dataset:\n",
      "northwest: 24.3%\n",
      "northeast: 24.2%\n",
      "southeast: 27.2%\n",
      "southwest: 24.3%\n"
     ]
    }
   ],
   "source": [
    "print(f'Percentage of each region in dataset:')\n",
    "print(f'northwest: {(len(regions[regions==0])) / len(regions) * 100:0.1f}%')\n",
    "print(f'northeast: {(len(regions[regions==1])) / len(regions) * 100:0.1f}%')\n",
    "print(f'southeast: {(len(regions[regions==2])) / len(regions) * 100:0.1f}%')\n",
    "print(f'southwest: {(len(regions[regions==3])) / len(regions) * 100:0.1f}%')"
   ]
  },
  {
   "cell_type": "code",
   "execution_count": 31,
   "metadata": {},
   "outputs": [],
   "source": [
    "region_unique, region_significant = get_unique_and_significant_values(regions)\n",
    "avg_cost_per_region = np.array([np.array(costs[regions==i], dtype=float).mean() \n",
    "                                  for i in region_significant])\n",
    "region_costs = np.stack([region_significant, avg_cost_per_region], axis=-1)"
   ]
  },
  {
   "cell_type": "code",
   "execution_count": 32,
   "metadata": {},
   "outputs": [
    {
     "data": {
      "image/png": "[encoded data removed]",
      "text/plain": [
       "<Figure size 432x288 with 1 Axes>"
      ]
     },
     "metadata": {
      "needs_background": "light"
     },
     "output_type": "display_data"
    }
   ],
   "source": [
    "plt.bar(region_costs[:, 0], region_costs[:, 1], tick_label=['Northwest', 'Northeast', 'Southeast', 'Southwest'])\n",
    "plt.show()"
   ]
  },
  {
   "cell_type": "code",
   "execution_count": 33,
   "metadata": {},
   "outputs": [],
   "source": [
    "region_unique, region_significant = get_unique_and_significant_values(regions)\n",
    "avg_bmi_per_region = np.array([np.array(bmis[regions==i], dtype=float).mean() \n",
    "                                  for i in region_significant])\n",
    "region_bmis = np.stack([region_significant, avg_bmi_per_region], axis=-1)"
   ]
  },
  {
   "cell_type": "code",
   "execution_count": 34,
   "metadata": {},
   "outputs": [
    {
     "data": {
      "text/plain": [
       "array([[ 0.        , 29.19978462],\n",
       "       [ 1.        , 29.17350309],\n",
       "       [ 2.        , 33.35598901],\n",
       "       [ 3.        , 30.59661538]])"
      ]
     },
     "execution_count": 34,
     "metadata": {},
     "output_type": "execute_result"
    }
   ],
   "source": [
    "region_bmis"
   ]
  },
  {
   "cell_type": "markdown",
   "metadata": {},
   "source": [
    "The difference across regions can roughly be accounted to the difference between BMIs, so we'll ignore that for now."
   ]
  },
  {
   "cell_type": "code",
   "execution_count": 35,
   "metadata": {},
   "outputs": [],
   "source": [
    "m_region = 0."
   ]
  },
  {
   "cell_type": "code",
   "execution_count": 36,
   "metadata": {},
   "outputs": [],
   "source": [
    "regions_one_hot = (\n",
    "    np.where(regions == 0, 1., 0.),\n",
    "    np.where(regions == 1, 1., 0.),\n",
    "    np.where(regions == 2, 1., 0.),\n",
    "    np.where(regions == 3, 1., 0.),\n",
    ")"
   ]
  },
  {
   "cell_type": "markdown",
   "metadata": {},
   "source": [
    "## All Analysis\n",
    "Since we have now calculated the analysis with each individual variable, we'll combine the relevent ms and find the mean error"
   ]
  },
  {
   "cell_type": "code",
   "execution_count": 37,
   "metadata": {},
   "outputs": [
    {
     "name": "stdout",
     "output_type": "stream",
     "text": [
      "253.46636682595246 441.00000000000244 996.4832147683242 23615.963533676637 -1387.1723338865468 0.0\n"
     ]
    }
   ],
   "source": [
    "print(m_age, m_bmi, m_children, m_smoker, m_sex, m_region)"
   ]
  },
  {
   "cell_type": "code",
   "execution_count": 38,
   "metadata": {
    "scrolled": true
   },
   "outputs": [],
   "source": [
    "variables_combined = np.stack([ages, bmis, children_nums, smokers, sexes, regions])\n",
    "ms_all = np.stack([m_age, m_bmi, m_children, m_smoker, m_sex, m_region])\n",
    "costs_calculated_no_bias = get_y(ms_all[:, None], 0., variables_combined).sum(axis=0)"
   ]
  },
  {
   "cell_type": "markdown",
   "metadata": {},
   "source": [
    "To find the bias, we run the linear regression using all of the variables and calculated weights from before"
   ]
  },
  {
   "cell_type": "code",
   "execution_count": 39,
   "metadata": {},
   "outputs": [],
   "source": [
    "ma, ba = run_linear_regressions(\n",
    "    np.stack([costs_calculated_no_bias, costs], axis=-1), \n",
    "    initial_m=1., \n",
    "    initial_b=-15000.\n",
    ")"
   ]
  },
  {
   "cell_type": "code",
   "execution_count": 40,
   "metadata": {},
   "outputs": [
    {
     "data": {
      "text/plain": [
       "(0.8230000000000105, -12060.48275388815)"
      ]
     },
     "execution_count": 40,
     "metadata": {},
     "output_type": "execute_result"
    }
   ],
   "source": [
    "ma, ba"
   ]
  },
  {
   "cell_type": "code",
   "execution_count": 41,
   "metadata": {},
   "outputs": [
    {
     "data": {
      "text/plain": [
       "4365.013623158274"
      ]
     },
     "execution_count": 41,
     "metadata": {},
     "output_type": "execute_result"
    }
   ],
   "source": [
    "get_error(ma, ba, np.stack([costs_calculated_no_bias, costs], axis=-1)).mean()"
   ]
  },
  {
   "cell_type": "markdown",
   "metadata": {},
   "source": [
    "## Multiple Linear Regression"
   ]
  },
  {
   "cell_type": "code",
   "execution_count": 42,
   "metadata": {},
   "outputs": [],
   "source": [
    "def get_loss(y_true, y_pred):\n",
    "    return (y_pred - y_true) ** 2"
   ]
  },
  {
   "cell_type": "code",
   "execution_count": 43,
   "metadata": {},
   "outputs": [],
   "source": [
    "def cost_derivative(y_true, y_pred):\n",
    "    return 2 * (y_pred - y_true)"
   ]
  },
  {
   "cell_type": "code",
   "execution_count": 44,
   "metadata": {},
   "outputs": [],
   "source": [
    "def weight_derivative(value):\n",
    "    return value"
   ]
  },
  {
   "cell_type": "code",
   "execution_count": 45,
   "metadata": {},
   "outputs": [],
   "source": [
    "def bias_derivative():\n",
    "    return 1"
   ]
  },
  {
   "cell_type": "code",
   "execution_count": 46,
   "metadata": {},
   "outputs": [],
   "source": [
    "def get_ys(values, weights, bias):\n",
    "    return get_y(weights[:, None], 0, values).sum(axis=0) + bias"
   ]
  },
  {
   "cell_type": "code",
   "execution_count": 47,
   "metadata": {},
   "outputs": [],
   "source": [
    "def get_gradient_vector(values, weights, bias, y_true, y_pred):\n",
    "    dw = weight_derivative(values) * cost_derivative(y_true, y_pred)\n",
    "    db = bias_derivative() * cost_derivative(y_true, y_pred)\n",
    "    gradient_vector = np.concatenate([dw, [db]], axis=0)\n",
    "    return gradient_vector.mean(axis=-1)"
   ]
  },
  {
   "cell_type": "code",
   "execution_count": 48,
   "metadata": {},
   "outputs": [],
   "source": [
    "def run_multiple_regressions(inputs, costs, iterations=5000, learning_rate=1e-5, lr_decay=0.999995):\n",
    "    # Initialize all ms to be the calculated values from before, with region=1000., b to be -15000\n",
    "    weights = np.stack([m_age, m_bmi, m_children, m_smoker, m_sex, 1000., 1000., 1000., 1000.])\n",
    "    bias = np.array([-15000.])\n",
    "    weights_and_biases = np.concatenate([weights, bias])\n",
    "    losses = []\n",
    "    y_pred = get_ys(inputs, weights_and_biases[:-1], weights_and_biases[-1])\n",
    "    for iteration in tqdm(range(iterations)):\n",
    "        y_pred = get_ys(inputs, weights_and_biases[:-1], weights_and_biases[-1])\n",
    "        loss = get_loss(costs, y_pred).mean()\n",
    "        gv = get_gradient_vector(inputs, weights_and_biases[:-1], weights_and_biases[-1], costs, y_pred)\n",
    "        weights_and_biases -= gv * learning_rate\n",
    "        losses.append(loss)\n",
    "        learning_rate *= lr_decay\n",
    "    return losses, weights_and_biases"
   ]
  },
  {
   "cell_type": "code",
   "execution_count": 49,
   "metadata": {},
   "outputs": [
    {
     "data": {
      "application/vnd.jupyter.widget-view+json": {
       "model_id": "e15a1229d2044480b57d7252e4513425",
       "version_major": 2,
       "version_minor": 0
      },
      "text/plain": [
       "  0%|          | 0/1000000 [00:00<?, ?it/s]"
      ]
     },
     "metadata": {},
     "output_type": "display_data"
    },
    {
     "name": "stdout",
     "output_type": "stream",
     "text": [
      "[   258.02007054    345.83690179    480.26734272  23865.60722408\n",
      "    153.15522428   1457.84859367   1811.09870485    745.08071459\n",
      "    839.80776852 -14146.16421837]\n",
      "4178.702422546632\n",
      "36504034.1911929\n"
     ]
    }
   ],
   "source": [
    "variables_combined = np.stack([ages, bmis, children_nums, smokers, sexes], axis=0)\n",
    "variables_combined = np.concatenate([variables_combined, regions_one_hot], axis=0)\n",
    "losses, wb = run_multiple_regressions(variables_combined, costs, iterations=1000000, learning_rate=1e-4)\n",
    "print(wb)\n",
    "yp = get_ys(variables_combined, wb[:-1], wb[-1])\n",
    "print(np.abs(costs - yp).mean())\n",
    "print(get_loss(costs, yp).mean())"
   ]
  },
  {
   "cell_type": "code",
   "execution_count": 50,
   "metadata": {},
   "outputs": [
    {
     "data": {
      "image/png": "[encoded data removed]",
      "text/plain": [
       "<Figure size 432x288 with 1 Axes>"
      ]
     },
     "metadata": {
      "needs_background": "light"
     },
     "output_type": "display_data"
    }
   ],
   "source": [
    "plt.plot(losses)\n",
    "plt.show()"
   ]
  },
  {
   "cell_type": "code",
   "execution_count": 51,
   "metadata": {},
   "outputs": [
    {
     "data": {
      "image/png": "[encoded data removed]",
      "text/plain": [
       "<Figure size 432x288 with 1 Axes>"
      ]
     },
     "metadata": {
      "needs_background": "light"
     },
     "output_type": "display_data"
    }
   ],
   "source": [
    "data = np.concatenate([variables_combined, [costs]], axis=0)\n",
    "data_sorted = data[:, np.argsort(data, axis=-1)[-1]]\n",
    "yp_sorted = get_ys(data_sorted[:-1], wb[:-1], wb[-1])\n",
    "plt.plot(np.arange(len(costs)), data_sorted[-1], 'bo', np.arange(len(costs)), yp_sorted, 'ro')\n",
    "plt.show()"
   ]
  },
  {
   "cell_type": "code",
   "execution_count": 52,
   "metadata": {},
   "outputs": [
    {
     "name": "stdout",
     "output_type": "stream",
     "text": [
      "Cost mean, std: 13270.422265141257, 12105.484975561612\n"
     ]
    }
   ],
   "source": [
    "print(f'Cost mean, std: {costs.mean()}, {costs.std()}')\n",
    "mean = costs.mean()\n",
    "std = costs.std()\n",
    "lower, upper = mean - 2 * std, mean + 2 * std"
   ]
  },
  {
   "cell_type": "code",
   "execution_count": 53,
   "metadata": {},
   "outputs": [
    {
     "name": "stdout",
     "output_type": "stream",
     "text": [
      "[[   0    1    2 ... 1335 1336 1337]]\n"
     ]
    }
   ],
   "source": [
    "valid_indices = np.where(np.logical_and(data[-1] < upper, data[-1] > lower))\n",
    "print(np.array(valid_indices)[:10])\n",
    "data_valid = data[:, np.array(valid_indices[-1])]"
   ]
  },
  {
   "cell_type": "code",
   "execution_count": 54,
   "metadata": {},
   "outputs": [
    {
     "data": {
      "application/vnd.jupyter.widget-view+json": {
       "model_id": "017f40b54e4c4e1e90add1473bebaec6",
       "version_major": 2,
       "version_minor": 0
      },
      "text/plain": [
       "  0%|          | 0/1000000 [00:00<?, ?it/s]"
      ]
     },
     "metadata": {},
     "output_type": "display_data"
    },
    {
     "name": "stdout",
     "output_type": "stream",
     "text": [
      "[   237.39326782    208.47117437    434.15513528  18139.00544197\n",
      "    492.87594699   2483.90720873   2819.15101844   1558.57490528\n",
      "   1840.78403975 -10297.5828278 ]\n",
      "3141.3940388148785\n",
      "26739299.953872744\n"
     ]
    },
    {
     "data": {
      "text/plain": [
       "(1230,)"
      ]
     },
     "execution_count": 54,
     "metadata": {},
     "output_type": "execute_result"
    }
   ],
   "source": [
    "losses_valid, wb_valid = run_multiple_regressions(data_valid[:-1], data_valid[-1], iterations=1000000, \n",
    "                                                  learning_rate=1e-4)\n",
    "print(wb_valid)\n",
    "yp_valid = get_ys(data_valid[:-1], wb_valid[:-1], wb_valid[-1])\n",
    "print(np.abs(data_valid[-1] - yp_valid).mean())\n",
    "print(get_loss(data_valid[-1], yp_valid).mean())\n",
    "yp_valid.shape"
   ]
  },
  {
   "cell_type": "code",
   "execution_count": 55,
   "metadata": {},
   "outputs": [
    {
     "data": {
      "image/png": "[encoded data removed]",
      "text/plain": [
       "<Figure size 432x288 with 1 Axes>"
      ]
     },
     "metadata": {
      "needs_background": "light"
     },
     "output_type": "display_data"
    }
   ],
   "source": [
    "plt.plot(losses_valid)\n",
    "plt.show()"
   ]
  },
  {
   "cell_type": "code",
   "execution_count": 56,
   "metadata": {},
   "outputs": [
    {
     "data": {
      "image/png": "[encoded data removed]",
      "text/plain": [
       "<Figure size 432x288 with 1 Axes>"
      ]
     },
     "metadata": {
      "needs_background": "light"
     },
     "output_type": "display_data"
    }
   ],
   "source": [
    "data_valid_sorted = data_valid[:, np.argsort(data_valid, axis=-1)[-1]]\n",
    "yp_valid_sorted = get_ys(data_valid_sorted[:-1], wb[:-1], wb[-1])\n",
    "\n",
    "plt.plot(np.arange(len(yp_valid)), data_valid_sorted[-1], 'bo', np.arange(len(yp_valid)), yp_valid_sorted, 'ro')\n",
    "plt.show()"
   ]
  },
  {
   "cell_type": "code",
   "execution_count": null,
   "metadata": {},
   "outputs": [],
   "source": []
  }
 ],
 "metadata": {
  "kernelspec": {
   "display_name": "Python 3 (ipykernel)",
   "language": "python",
   "name": "python3"
  },
  "language_info": {
   "codemirror_mode": {
    "name": "ipython",
    "version": 3
   },
   "file_extension": ".py",
   "mimetype": "text/x-python",
   "name": "python",
   "nbconvert_exporter": "python",
   "pygments_lexer": "ipython3",
   "version": "3.9.7"
  }
 },
 "nbformat": 4,
 "nbformat_minor": 4
}
