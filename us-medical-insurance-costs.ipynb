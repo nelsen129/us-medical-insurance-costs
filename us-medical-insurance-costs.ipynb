{
 "cells": [
  {
   "cell_type": "markdown",
   "metadata": {},
   "source": [
    "# U.S. Medical Insurance Costs"
   ]
  },
  {
   "cell_type": "markdown",
   "metadata": {},
   "source": [
    "We have a csv file `insurance_data.csv`, which contains insurance costs and several related datapoints. Here, we do a series of linear regression to find the effect of each variable on the final cost."
   ]
  },
  {
   "cell_type": "markdown",
   "metadata": {},
   "source": [
    "## Data Parsing\n",
    "We have a csv file with insurance costs in the U.S., containing age, bmi, sex, number of children, smoker status, and geographical region. The following blocks of code load the data and saves it to relevant variables. \n",
    "\n",
    "`insurance_data` contains all of the csv data as a dictionary, with the key being the id (row index).\n",
    "`ages`, `bmis`, `sexes`, `children_nums`, `smokers`, `regions`, and `costs` are all Numpy arrays containing the related data in the same order."
   ]
  },
  {
   "cell_type": "code",
   "execution_count": 1,
   "metadata": {},
   "outputs": [],
   "source": [
    "import csv\n",
    "import numpy as np\n",
    "from matplotlib import pyplot as plt\n",
    "from tqdm.notebook import tqdm"
   ]
  },
  {
   "cell_type": "code",
   "execution_count": 2,
   "metadata": {},
   "outputs": [
    {
     "name": "stdout",
     "output_type": "stream",
     "text": [
      "Index 0 data: {'age': '19', 'sex': 'female', 'bmi': '27.9', 'children': '0', 'smoker': 'yes', 'region': 'southwest', 'charges': '16884.924'}\n",
      "There are 1338 datapoints in this dataset\n"
     ]
    }
   ],
   "source": [
    "insurance_data = {}\n",
    "\n",
    "with open('insurance.csv') as insurance_csv:\n",
    "    insurance_dict_reader = csv.DictReader(insurance_csv)\n",
    "    for i, row in enumerate(insurance_dict_reader):\n",
    "        insurance_data[i] = row  # The row number becomes the id.\n",
    "\n",
    "print(f'Index 0 data: {insurance_data[0]}')\n",
    "print(f'There are {len(insurance_data.keys())} datapoints in this dataset')"
   ]
  },
  {
   "cell_type": "markdown",
   "metadata": {},
   "source": [
    "`smoker`, `sex`, and `region` are all strings in the csv file. We will use a lookup table to convert these string values to floats for analysis."
   ]
  },
  {
   "cell_type": "code",
   "execution_count": 3,
   "metadata": {},
   "outputs": [],
   "source": [
    "# Lookup tables for string values\n",
    "smoker_dict = {'yes': 1, 'no': 0}\n",
    "sexes_dict = {'female': 1, 'male': 0}\n",
    "regions_dict = {'northwest': 0, 'northeast': 1, 'southeast': 2, 'southwest': 3}"
   ]
  },
  {
   "cell_type": "code",
   "execution_count": 4,
   "metadata": {
    "scrolled": true
   },
   "outputs": [
    {
     "name": "stdout",
     "output_type": "stream",
     "text": [
      "First 10 ages: [19. 18. 28. 33. 32. 31. 46. 37. 37. 60.]\n"
     ]
    }
   ],
   "source": [
    "# Initialize the data variables as empty lists.\n",
    "ages = []\n",
    "bmis = []\n",
    "sexes = []\n",
    "children_nums = []\n",
    "smokers = []\n",
    "regions = []\n",
    "costs = []\n",
    "\n",
    "# Add the data to each list.\n",
    "for idx in range(len(insurance_data.keys())):\n",
    "    ages.append(insurance_data[idx]['age'])\n",
    "    bmis.append(insurance_data[idx]['bmi'])\n",
    "    sexes.append(sexes_dict[insurance_data[idx]['sex']])\n",
    "    children_nums.append(insurance_data[idx]['children'])\n",
    "    smokers.append(smoker_dict[insurance_data[idx]['smoker']])\n",
    "    regions.append(regions_dict[insurance_data[idx]['region']])\n",
    "    costs.append(insurance_data[idx]['charges'])\n",
    "    \n",
    "# Convert data variables to Numpy arrays.\n",
    "ages = np.array(ages, dtype=float)\n",
    "bmis = np.array(bmis, dtype=float)\n",
    "sexes = np.array(sexes, dtype=float)\n",
    "children_nums = np.array(children_nums, dtype=float)\n",
    "smokers = np.array(smokers, dtype=float)\n",
    "regions = np.array(regions, dtype=float)\n",
    "costs = np.array(costs, dtype=float)\n",
    "\n",
    "print(f'First 10 ages: {ages[:10]}')"
   ]
  },
  {
   "cell_type": "markdown",
   "metadata": {},
   "source": [
    "Because `smoker` can be one of four discrete categories, the float is not as useful to us. We'll convert it to four different variables with one-hot encoding."
   ]
  },
  {
   "cell_type": "code",
   "execution_count": 5,
   "metadata": {},
   "outputs": [],
   "source": [
    "regions_one_hot = np.array((\n",
    "    np.where(regions == 0, 1., 0.),\n",
    "    np.where(regions == 1, 1., 0.),\n",
    "    np.where(regions == 2, 1., 0.),\n",
    "    np.where(regions == 3, 1., 0.),\n",
    "))"
   ]
  },
  {
   "cell_type": "markdown",
   "metadata": {},
   "source": [
    "## Linear Regression"
   ]
  },
  {
   "cell_type": "code",
   "execution_count": 6,
   "metadata": {},
   "outputs": [],
   "source": [
    "def get_y(m, b, x):\n",
    "    return m * x + b"
   ]
  },
  {
   "cell_type": "code",
   "execution_count": 7,
   "metadata": {},
   "outputs": [],
   "source": [
    "def get_error(m, b, points):\n",
    "    points_x = points[:, 0]\n",
    "    points_y = points[:, 1]\n",
    "    return np.abs(points_y - get_y(m, b, points_x))"
   ]
  },
  {
   "cell_type": "markdown",
   "metadata": {},
   "source": [
    "`linear_regression` takes array-likes of ms, bs, and points, and tests all of the possible ms and bs. It will return the `m` and `b` that return the smallest error for `y = mx + b`."
   ]
  },
  {
   "cell_type": "code",
   "execution_count": 8,
   "metadata": {},
   "outputs": [],
   "source": [
    "def linear_regression(ms, bs, points):\n",
    "    m_best = 0\n",
    "    b_best = 0\n",
    "    error = float('inf')\n",
    "    for m in ms:\n",
    "        for b in bs:\n",
    "            if error < get_error(m, b, points).mean():\n",
    "                continue\n",
    "            error = get_error(m, b, points).mean()\n",
    "            m_best = m\n",
    "            b_best = b\n",
    "    return m_best, b_best"
   ]
  },
  {
   "cell_type": "markdown",
   "metadata": {},
   "source": [
    "`get_range_array` will return a range centered on `center` with a spread of +/- `tolerance_percent`%. There is also a safeguard if center is close to zero."
   ]
  },
  {
   "cell_type": "code",
   "execution_count": 9,
   "metadata": {},
   "outputs": [],
   "source": [
    "def get_range_array(center, tolerance_percent=0.1, steps=100):\n",
    "    if abs(center) > 10:\n",
    "        start = center * (1 - tolerance_percent)\n",
    "        stop = center * (1 + tolerance_percent)\n",
    "    else:\n",
    "        start = center - tolerance_percent * steps / 2\n",
    "        stop = center + tolerance_percent * steps / 2\n",
    "    increment = (stop - start) / steps\n",
    "    return np.arange(start, stop+increment, increment)"
   ]
  },
  {
   "cell_type": "markdown",
   "metadata": {},
   "source": [
    "`run_linear_regression` will run a series of linear regressions to find the best fit. This algorithm balances testing a wide range and a small interval by doing the following:\n",
    "1. Select an initial `m` and `b`.\n",
    "2. Select an initial `tolerance` that is large.\n",
    "3. Build a range of `ms` and `bs` centered around the current values with a spread related to the tolerance\n",
    "4. Find the best `m` and `b` within that range.\n",
    "5. If either `m` or `b` are at the edge of the range, recenter the ranges on the current values and continue with the same tolerance. \n",
    "6. Else, lower the tolerance.\n",
    "7. Go to Step 3 and repeat until a sufficiently lower tolerance is met."
   ]
  },
  {
   "cell_type": "code",
   "execution_count": 10,
   "metadata": {},
   "outputs": [],
   "source": [
    "def run_linear_regressions(points, initial_m=250., initial_b=3000.):\n",
    "    m_best = initial_m\n",
    "    b_best = initial_b\n",
    "    for tolerance in [1e1, 1e0, 1e-1, 1e-2, 1e-3]:\n",
    "        m_range = get_range_array(m_best, tolerance)\n",
    "        b_range = get_range_array(b_best, tolerance)\n",
    "        m_best, b_best = linear_regression(m_range, b_range, points)\n",
    "        \n",
    "        # Recenter if any of values are at the edges\n",
    "        move_counter = 0\n",
    "        while m_best in [m_range.min(), m_range.max()] or b_best in [b_range.min(), b_range.max()]:\n",
    "            m_range = get_range_array(m_best, tolerance)\n",
    "            b_range = get_range_array(b_best, tolerance)\n",
    "            m_best, b_best = linear_regression(m_range, b_range, points)\n",
    "            move_counter += 1\n",
    "            if move_counter > 100:  # To avoid the algorithm running indefinitely\n",
    "                return None, None\n",
    "    return m_best, b_best"
   ]
  },
  {
   "cell_type": "markdown",
   "metadata": {},
   "source": [
    "While not directly used in linear regression, `get_unique_and_significant_values` returns bucketed variables of the unique values and significant values from several for a datapoint. \"Significant\" here is defined as being within 2 standard deviations. Useful for both filtering outliers and plotting data."
   ]
  },
  {
   "cell_type": "code",
   "execution_count": 11,
   "metadata": {},
   "outputs": [],
   "source": [
    "def get_unique_and_significant_values(values):\n",
    "    values_unique = np.unique(values)\n",
    "    # Values are significant if they are within 2 standard deviations\n",
    "    mean, std = values.mean(), values.std()\n",
    "    lower, upper = mean - 2 * std, mean + 2 * std\n",
    "    values_significant = values_unique[np.where(np.logical_and(values_unique > lower, values_unique < upper))]\n",
    "    return values_unique, values_significant"
   ]
  },
  {
   "cell_type": "markdown",
   "metadata": {},
   "source": [
    "## Age Analysis"
   ]
  },
  {
   "cell_type": "code",
   "execution_count": 12,
   "metadata": {},
   "outputs": [
    {
     "name": "stdout",
     "output_type": "stream",
     "text": [
      "Average age: 39.20702541106129\n"
     ]
    }
   ],
   "source": [
    "print(f'Average age: {ages.mean()}')"
   ]
  },
  {
   "cell_type": "code",
   "execution_count": 13,
   "metadata": {},
   "outputs": [],
   "source": [
    "# Find the unique ages, and then calculate the average cost per unique age\n",
    "ages_unique, ages_significant = get_unique_and_significant_values(ages)\n",
    "avg_cost_per_age = np.array([np.array(costs[ages==i], dtype=float).mean() for i in ages_significant])\n",
    "ages_costs = np.stack([ages_significant, avg_cost_per_age], axis=-1)"
   ]
  },
  {
   "cell_type": "code",
   "execution_count": 14,
   "metadata": {},
   "outputs": [
    {
     "name": "stdout",
     "output_type": "stream",
     "text": [
      "253.46636682595246 3079.635454108041 1816.387347274485\n"
     ]
    }
   ],
   "source": [
    "m_age, b_age = run_linear_regressions(ages_costs, 10000, 3000)\n",
    "print(m_age, b_age, get_error(m_age, b_age, ages_costs).mean())"
   ]
  },
  {
   "cell_type": "code",
   "execution_count": 15,
   "metadata": {},
   "outputs": [
    {
     "data": {
      "image/png": "[encoded data removed]",
      "text/plain": [
       "<Figure size 432x288 with 1 Axes>"
      ]
     },
     "metadata": {
      "needs_background": "light"
     },
     "output_type": "display_data"
    }
   ],
   "source": [
    "# From the linear regression, we got m=253.5 and b=3078.5. Here, we'll plot that\n",
    "predicted_ys = get_y(m_age, b_age, ages_costs[:, 0])\n",
    "plt.plot(ages_costs[:, 0], ages_costs[:, 1], 'bo', ages_costs[:, 0], predicted_ys, 'r-')\n",
    "plt.xlabel('Age')\n",
    "plt.ylabel('Average Cost')\n",
    "plt.title('Average Cost Per Age')\n",
    "plt.legend(['Cost', 'Predicted'])\n",
    "plt.show()"
   ]
  },
  {
   "cell_type": "markdown",
   "metadata": {},
   "source": [
    "## BMI Analysis"
   ]
  },
  {
   "cell_type": "code",
   "execution_count": 16,
   "metadata": {},
   "outputs": [
    {
     "name": "stdout",
     "output_type": "stream",
     "text": [
      "Average BMI: 30.66339686098655\n"
     ]
    }
   ],
   "source": [
    "print(f'Average BMI: {bmis.mean()}')"
   ]
  },
  {
   "cell_type": "code",
   "execution_count": 17,
   "metadata": {},
   "outputs": [],
   "source": [
    "bmis_rounded = np.around(bmis)\n",
    "bmis_unique, bmis_significant = get_unique_and_significant_values(bmis_rounded)\n",
    "avg_cost_per_bmi = np.array([np.array(costs[bmis_rounded==i], dtype=float).mean() for i in bmis_significant])\n",
    "bmis_costs = np.stack([bmis_significant, avg_cost_per_bmi], axis=-1)"
   ]
  },
  {
   "cell_type": "code",
   "execution_count": 18,
   "metadata": {},
   "outputs": [
    {
     "name": "stdout",
     "output_type": "stream",
     "text": [
      "441.00882000000144 110.46974447519982 1554.8338139479445\n"
     ]
    }
   ],
   "source": [
    "m_bmi, b_bmi = run_linear_regressions(bmis_costs)\n",
    "print(m_bmi, b_bmi, get_error(m_bmi, b_bmi, bmis_costs).mean())"
   ]
  },
  {
   "cell_type": "code",
   "execution_count": 19,
   "metadata": {},
   "outputs": [
    {
     "data": {
      "image/png": "[encoded data removed]",
      "text/plain": [
       "<Figure size 432x288 with 1 Axes>"
      ]
     },
     "metadata": {
      "needs_background": "light"
     },
     "output_type": "display_data"
    }
   ],
   "source": [
    "# Plot the results of the linear regression\n",
    "predicted_ys = get_y(m_bmi, b_bmi, bmis_costs[:, 0])\n",
    "plt.plot(bmis_costs[:, 0], bmis_costs[:, 1], 'bo', bmis_costs[:, 0], predicted_ys, 'r-')\n",
    "plt.xlabel('BMIs')\n",
    "plt.ylabel('Average Cost')\n",
    "plt.title('Average Cost Per BMI')\n",
    "plt.legend(['Cost', 'Predicted'])\n",
    "plt.show()"
   ]
  },
  {
   "cell_type": "markdown",
   "metadata": {},
   "source": [
    "## Children Analysis"
   ]
  },
  {
   "cell_type": "code",
   "execution_count": 20,
   "metadata": {},
   "outputs": [
    {
     "name": "stdout",
     "output_type": "stream",
     "text": [
      "Average number of children: 1.0949177877429\n"
     ]
    }
   ],
   "source": [
    "print(f'Average number of children: {children_nums.mean()}')"
   ]
  },
  {
   "cell_type": "code",
   "execution_count": 21,
   "metadata": {},
   "outputs": [],
   "source": [
    "children_unique, children_significant = get_unique_and_significant_values(children_nums)\n",
    "avg_cost_per_children = np.array([np.array(costs[children_nums==i], dtype=float).mean() \n",
    "                                  for i in children_significant])\n",
    "children_costs = np.stack([children_significant, avg_cost_per_children], axis=-1)"
   ]
  },
  {
   "cell_type": "code",
   "execution_count": 22,
   "metadata": {
    "scrolled": true
   },
   "outputs": [
    {
     "name": "stdout",
     "output_type": "stream",
     "text": [
      "996.4832147683242 12365.861669798367 336.50741802591847\n"
     ]
    }
   ],
   "source": [
    "m_children, b_children = run_linear_regressions(children_costs)\n",
    "print(m_children, b_children, get_error(m_children, b_children, children_costs).mean())"
   ]
  },
  {
   "cell_type": "code",
   "execution_count": 23,
   "metadata": {},
   "outputs": [
    {
     "data": {
      "image/png": "[encoded data removed]",
      "text/plain": [
       "<Figure size 432x288 with 1 Axes>"
      ]
     },
     "metadata": {
      "needs_background": "light"
     },
     "output_type": "display_data"
    }
   ],
   "source": [
    "# Plot the results of the linear regression\n",
    "predicted_ys = get_y(m_children, b_children, children_costs[:, 0])\n",
    "plt.plot(children_costs[:, 0], children_costs[:, 1], 'bo', children_costs[:, 0], predicted_ys, 'r-')\n",
    "plt.xlabel('Number of Children')\n",
    "plt.xticks([0, 1, 2, 3])\n",
    "plt.ylabel('Average Cost')\n",
    "plt.title('Average Cost Per Children')\n",
    "plt.legend(['Cost', 'Predicted'])\n",
    "plt.show()"
   ]
  },
  {
   "cell_type": "markdown",
   "metadata": {},
   "source": [
    "## Smoker Analysis"
   ]
  },
  {
   "cell_type": "markdown",
   "metadata": {},
   "source": [
    "This is our first categorical value. Running the linear regressions on `smokers` wouldn't be useful since there are only two values to draw from: smoker and non-smoker. So, we simply take the difference in the mean cost between a smoker and non-smoker"
   ]
  },
  {
   "cell_type": "code",
   "execution_count": 24,
   "metadata": {},
   "outputs": [
    {
     "name": "stdout",
     "output_type": "stream",
     "text": [
      "Percentage of smokers in dataset: 20.5%\n"
     ]
    }
   ],
   "source": [
    "print(f'Percentage of smokers in dataset: {smokers.mean()*100:0.1f}%')"
   ]
  },
  {
   "cell_type": "code",
   "execution_count": 25,
   "metadata": {},
   "outputs": [],
   "source": [
    "smoker_unique, smoker_significant = get_unique_and_significant_values(smokers)\n",
    "avg_cost_per_smoker = np.array([np.array(costs[smokers==i], dtype=float).mean() \n",
    "                                  for i in smoker_significant])\n",
    "smoker_costs = np.stack([smoker_significant, avg_cost_per_smoker], axis=-1)"
   ]
  },
  {
   "cell_type": "code",
   "execution_count": 26,
   "metadata": {},
   "outputs": [
    {
     "name": "stdout",
     "output_type": "stream",
     "text": [
      "23615.963533676637\n"
     ]
    }
   ],
   "source": [
    "m_smoker = smoker_costs[1, 1] - smoker_costs[0, 1]\n",
    "print(m_smoker)"
   ]
  },
  {
   "cell_type": "code",
   "execution_count": 27,
   "metadata": {},
   "outputs": [
    {
     "data": {
      "image/png": "[encoded data removed]",
      "text/plain": [
       "<Figure size 432x288 with 1 Axes>"
      ]
     },
     "metadata": {
      "needs_background": "light"
     },
     "output_type": "display_data"
    }
   ],
   "source": [
    "plt.bar(smoker_costs[:, 0], smoker_costs[:, 1], tick_label=['Non-smoker', 'Smoker'])\n",
    "plt.ylabel(\"Average Cost\")\n",
    "plt.title(\"Average Cost Between Smokers and Non-smokers\")\n",
    "plt.show()"
   ]
  },
  {
   "cell_type": "markdown",
   "metadata": {},
   "source": [
    "## Sex Analysis"
   ]
  },
  {
   "cell_type": "markdown",
   "metadata": {},
   "source": [
    "We analyze this using the same method as smoker status. This dataset notably does not contain non-binary gender information."
   ]
  },
  {
   "cell_type": "code",
   "execution_count": 28,
   "metadata": {},
   "outputs": [
    {
     "name": "stdout",
     "output_type": "stream",
     "text": [
      "Percentage of women in dataset: 49.5%\n"
     ]
    }
   ],
   "source": [
    "print(f'Percentage of women in dataset: {sexes.mean()*100:0.1f}%')"
   ]
  },
  {
   "cell_type": "code",
   "execution_count": 29,
   "metadata": {},
   "outputs": [],
   "source": [
    "sex_unique, sex_significant = get_unique_and_significant_values(sexes)\n",
    "avg_cost_per_sex = np.array([np.array(costs[sexes==i], dtype=float).mean() \n",
    "                                  for i in sex_significant])\n",
    "sex_costs = np.stack([sex_significant, avg_cost_per_sex], axis=-1)"
   ]
  },
  {
   "cell_type": "code",
   "execution_count": 30,
   "metadata": {},
   "outputs": [
    {
     "name": "stdout",
     "output_type": "stream",
     "text": [
      "-1387.1723338865468\n"
     ]
    }
   ],
   "source": [
    "m_sex = sex_costs[1, 1] - sex_costs[0, 1]\n",
    "print(m_sex)"
   ]
  },
  {
   "cell_type": "code",
   "execution_count": 31,
   "metadata": {},
   "outputs": [
    {
     "data": {
      "image/png": "[encoded data removed]",
      "text/plain": [
       "<Figure size 432x288 with 1 Axes>"
      ]
     },
     "metadata": {
      "needs_background": "light"
     },
     "output_type": "display_data"
    }
   ],
   "source": [
    "plt.bar(sex_costs[:, 0], sex_costs[:, 1], tick_label=['Male', 'Female'])\n",
    "plt.ylabel(\"Average Cost\")\n",
    "plt.title(\"Average Cost Between Male and Female\")\n",
    "plt.show()"
   ]
  },
  {
   "cell_type": "markdown",
   "metadata": {},
   "source": [
    "## Region Analysis"
   ]
  },
  {
   "cell_type": "markdown",
   "metadata": {},
   "source": [
    "There are 4 different regions included: northwest, northeast, southeast, and southwest. From our one-hot encoding, we will take the difference between each and the average cost to find how each individual region affects the cost."
   ]
  },
  {
   "cell_type": "code",
   "execution_count": 32,
   "metadata": {},
   "outputs": [
    {
     "name": "stdout",
     "output_type": "stream",
     "text": [
      "Percentage of each region in dataset:\n",
      "northwest: 24.3%\n",
      "northeast: 24.2%\n",
      "southeast: 27.2%\n",
      "southwest: 24.3%\n"
     ]
    }
   ],
   "source": [
    "print(f'Percentage of each region in dataset:')\n",
    "print(f'northwest: {(np.count_nonzero(regions_one_hot[0]) / len(regions) * 100):0.1f}%')\n",
    "print(f'northeast: {(np.count_nonzero(regions_one_hot[1]) / len(regions) * 100):0.1f}%')\n",
    "print(f'southeast: {(np.count_nonzero(regions_one_hot[2]) / len(regions) * 100):0.1f}%')\n",
    "print(f'southwest: {(np.count_nonzero(regions_one_hot[3]) / len(regions) * 100):0.1f}%')"
   ]
  },
  {
   "cell_type": "code",
   "execution_count": 33,
   "metadata": {},
   "outputs": [],
   "source": [
    "region_unique, region_significant = get_unique_and_significant_values(regions)\n",
    "avg_cost_per_region = np.array([np.array(costs[regions==i], dtype=float).mean() \n",
    "                                  for i in region_significant])\n",
    "region_costs = np.stack([region_significant, avg_cost_per_region], axis=-1)"
   ]
  },
  {
   "cell_type": "code",
   "execution_count": 34,
   "metadata": {},
   "outputs": [],
   "source": [
    "m_region = np.array([r_cost - costs.mean() for r_cost in region_costs[:, -1]])"
   ]
  },
  {
   "cell_type": "code",
   "execution_count": 35,
   "metadata": {},
   "outputs": [
    {
     "data": {
      "image/png": "[encoded data removed]",
      "text/plain": [
       "<Figure size 432x288 with 1 Axes>"
      ]
     },
     "metadata": {
      "needs_background": "light"
     },
     "output_type": "display_data"
    }
   ],
   "source": [
    "plt.bar(region_costs[:, 0], region_costs[:, 1], tick_label=['Northwest', 'Northeast', 'Southeast', 'Southwest'])\n",
    "plt.axhline(costs.mean(), color='r', label='Avg Cost')\n",
    "plt.ylabel(\"Average Cost\")\n",
    "plt.title(\"Average Cost Per Region\")\n",
    "plt.legend()\n",
    "plt.show()"
   ]
  },
  {
   "cell_type": "markdown",
   "metadata": {},
   "source": [
    "## All Analysis\n",
    "Since we have now calculated the analysis with each individual variable, we'll combine the relevant ms and find the mean error."
   ]
  },
  {
   "cell_type": "code",
   "execution_count": 36,
   "metadata": {},
   "outputs": [
    {
     "name": "stdout",
     "output_type": "stream",
     "text": [
      "253.46636682595246 441.00882000000144 996.4832147683242 23615.963533676637 -1387.1723338865468 [-852.84689117  135.96225124 1464.98917247 -923.48488785]\n"
     ]
    }
   ],
   "source": [
    "print(m_age, m_bmi, m_children, m_smoker, m_sex, m_region)"
   ]
  },
  {
   "cell_type": "code",
   "execution_count": 37,
   "metadata": {
    "scrolled": true
   },
   "outputs": [],
   "source": [
    "variables_combined = np.stack([ages, bmis, children_nums, smokers, sexes])\n",
    "ms_all = np.stack([m_age, m_bmi, m_children, m_smoker, m_sex])\n",
    "\n",
    "# Since region is one-hot encoded\n",
    "variables_combined = np.concatenate([variables_combined, regions_one_hot])\n",
    "ms_all = np.concatenate([ms_all, m_region])\n",
    "costs_calculated_no_bias = get_y(ms_all[:, None], 0., variables_combined).sum(axis=0)"
   ]
  },
  {
   "cell_type": "markdown",
   "metadata": {},
   "source": [
    "To find the bias, we run the linear regression using all of the variables and calculated weights from before. Since some of the bias could be included in the other variables, we also calculate an `m` to multiply by all of the `ms`"
   ]
  },
  {
   "cell_type": "code",
   "execution_count": 38,
   "metadata": {},
   "outputs": [],
   "source": [
    "m_all, b_all = run_linear_regressions(\n",
    "    np.stack([costs_calculated_no_bias, costs], axis=-1), \n",
    "    initial_m=1., \n",
    "    initial_b=-15000.\n",
    ")"
   ]
  },
  {
   "cell_type": "code",
   "execution_count": 39,
   "metadata": {},
   "outputs": [
    {
     "data": {
      "text/plain": [
       "(0.8110000000000149, -11770.123794521072)"
      ]
     },
     "execution_count": 39,
     "metadata": {},
     "output_type": "execute_result"
    }
   ],
   "source": [
    "m_all, b_all"
   ]
  },
  {
   "cell_type": "code",
   "execution_count": 40,
   "metadata": {},
   "outputs": [
    {
     "name": "stdout",
     "output_type": "stream",
     "text": [
      "Average error: $4477.48\n"
     ]
    }
   ],
   "source": [
    "linear_error = get_error(m_all, b_all, np.stack([costs_calculated_no_bias, costs], axis=-1)).mean()\n",
    "print(f'Average error: ${linear_error:.2f}')"
   ]
  },
  {
   "cell_type": "markdown",
   "metadata": {},
   "source": [
    "The average error found by combining the individual simple linear regressions is $4477.48. While this gives a somewhat reasonable error, it treats each of the variables as completely independent, which is not the case. `bmi` and `region` are correlated, as well as `age` and `children_num`. For this reason, we must perform a multiple linear regression to get the true weight of each variable."
   ]
  },
  {
   "cell_type": "markdown",
   "metadata": {},
   "source": [
    "## Multiple Linear Regression"
   ]
  },
  {
   "cell_type": "markdown",
   "metadata": {},
   "source": [
    "We must first create the functions to perform gradient descent. This uses a loss function of MSE. The dataset is small enough that we can perform gradient descent across the whole dataset without splitting into minibatches."
   ]
  },
  {
   "cell_type": "code",
   "execution_count": 41,
   "metadata": {},
   "outputs": [],
   "source": [
    "def get_loss(y_true, y_pred):\n",
    "    return (y_pred - y_true) ** 2"
   ]
  },
  {
   "cell_type": "code",
   "execution_count": 42,
   "metadata": {},
   "outputs": [],
   "source": [
    "def cost_derivative(y_true, y_pred):\n",
    "    return 2 * (y_pred - y_true)"
   ]
  },
  {
   "cell_type": "code",
   "execution_count": 43,
   "metadata": {},
   "outputs": [],
   "source": [
    "def weight_derivative(value):\n",
    "    return value"
   ]
  },
  {
   "cell_type": "code",
   "execution_count": 44,
   "metadata": {},
   "outputs": [],
   "source": [
    "def bias_derivative():\n",
    "    return 1"
   ]
  },
  {
   "cell_type": "code",
   "execution_count": 45,
   "metadata": {},
   "outputs": [],
   "source": [
    "def get_ys(values, weights, bias):\n",
    "    return get_y(weights[:, None], 0, values).sum(axis=0) + bias"
   ]
  },
  {
   "cell_type": "code",
   "execution_count": 46,
   "metadata": {},
   "outputs": [],
   "source": [
    "def get_errors(values, correct, weights, bias):\n",
    "    pred = get_y(weights[:, None], 0, values).sum(axis=0) + bias \n",
    "    return np.abs(pred - correct)"
   ]
  },
  {
   "cell_type": "markdown",
   "metadata": {},
   "source": [
    "For the equation:\n",
    "$$\n",
    "    y = w_1x_1 + w_2x_2 + \\cdots + w_nx_n + b,\n",
    "$$\n",
    "and a loss (or cost $C$) of MSE:\n",
    "$$\n",
    "    C = (y_{pred} - y_{true}) ^ 2,\n",
    "$$\n",
    "the gradient vector can be calculated by taking the derivative of the loss with respect to each of the weights and biases.\n",
    "For each of the weights, by the chain rule,\n",
    "$$\n",
    "    \\frac{\\delta C}{\\delta w_n}=\\frac{\\delta C}{\\delta y} \\times \\frac{\\delta y}{\\delta w_n} = 2 (y_{pred} - y_{true}) \\times x_n,\n",
    "$$\n",
    "with the bias being simply\n",
    "$$\n",
    "    \\frac{\\delta C}{\\delta b}=\\frac{\\delta C}{\\delta y} \\times \\frac{\\delta y}{\\delta b} = 2 (y_{pred} - y_{true}) \\times 1.\n",
    "$$\n",
    "So the final gradient vector would be:\n",
    "$$\n",
    "    \\nabla C = \\begin{bmatrix} \n",
    "        2 (y_{pred} - y_{true}) x_1 && 2 (y_{pred} - y_{true}) x_2 && \\cdots && 2 (y_{pred} - y_{true})\n",
    "    \\end{bmatrix}\n",
    "$$"
   ]
  },
  {
   "cell_type": "code",
   "execution_count": 47,
   "metadata": {},
   "outputs": [],
   "source": [
    "def get_gradient_vector(values, weights, bias, y_true, y_pred):\n",
    "    dw = weight_derivative(values) * cost_derivative(y_true, y_pred)\n",
    "    db = bias_derivative() * cost_derivative(y_true, y_pred)\n",
    "    gradient_vector = np.concatenate([dw, [db]], axis=0)\n",
    "    return gradient_vector.mean(axis=-1)"
   ]
  },
  {
   "cell_type": "markdown",
   "metadata": {},
   "source": [
    "`run_multiple_regressions` runs a regression for `iterations`, changing the weights and biases by the calculated gradient vector. It starts with an initial `learning_rate` that is decayed by `lr_decay` on each iteration."
   ]
  },
  {
   "cell_type": "code",
   "execution_count": 48,
   "metadata": {},
   "outputs": [],
   "source": [
    "def run_multiple_regressions(inputs, costs, iterations=100000, learning_rate=1e-4, lr_decay=0.999995):\n",
    "    # Initialize all ms to be the calculated values from before and b as b_all\n",
    "    weights = np.stack([m_age, m_bmi, m_children, m_smoker, m_sex])\n",
    "    weights = np.concatenate([weights, m_region])\n",
    "    bias = np.array([b_all])\n",
    "    weights_and_biases = np.concatenate([weights, bias])\n",
    "    losses = []\n",
    "    y_pred = get_ys(inputs, weights_and_biases[:-1], weights_and_biases[-1])\n",
    "    for iteration in tqdm(range(iterations)):\n",
    "        y_pred = get_ys(inputs, weights_and_biases[:-1], weights_and_biases[-1])\n",
    "        loss = get_loss(costs, y_pred).mean()\n",
    "        gv = get_gradient_vector(inputs, weights_and_biases[:-1], weights_and_biases[-1], costs, y_pred)\n",
    "        weights_and_biases -= gv * learning_rate\n",
    "        losses.append(loss)\n",
    "        learning_rate *= lr_decay\n",
    "    return losses, weights_and_biases"
   ]
  },
  {
   "cell_type": "code",
   "execution_count": 49,
   "metadata": {},
   "outputs": [
    {
     "data": {
      "application/vnd.jupyter.widget-view+json": {
       "model_id": "94be5afbe35b414faa966f264d696988",
       "version_major": 2,
       "version_minor": 0
      },
      "text/plain": [
       "  0%|          | 0/1000000 [00:00<?, ?it/s]"
      ]
     },
     "metadata": {},
     "output_type": "display_data"
    },
    {
     "name": "stdout",
     "output_type": "stream",
     "text": [
      "Average error: $4163.11\n"
     ]
    }
   ],
   "source": [
    "variables_combined = np.stack([ages, bmis, children_nums, smokers, sexes], axis=0)\n",
    "variables_combined = np.concatenate([variables_combined, regions_one_hot], axis=0)\n",
    "losses, wb = run_multiple_regressions(variables_combined, costs, iterations=1000000, learning_rate=1e-4)\n",
    "multiple_error = get_errors(variables_combined, costs, wb[:-1], wb[-1]).mean()\n",
    "print(f'Average error: ${multiple_error:.2f}')"
   ]
  },
  {
   "cell_type": "code",
   "execution_count": 50,
   "metadata": {},
   "outputs": [
    {
     "data": {
      "image/png": "[encoded data removed]",
      "text/plain": [
       "<Figure size 432x288 with 1 Axes>"
      ]
     },
     "metadata": {
      "needs_background": "light"
     },
     "output_type": "display_data"
    }
   ],
   "source": [
    "plt.plot(losses)\n",
    "plt.xlabel('Iterations')\n",
    "plt.xticks(np.arange(0, 1000001, 200000))\n",
    "plt.ylabel('Loss')\n",
    "plt.title('Loss Per Iteration')\n",
    "plt.show()"
   ]
  },
  {
   "cell_type": "code",
   "execution_count": 51,
   "metadata": {},
   "outputs": [
    {
     "data": {
      "image/png": "[encoded data removed]",
      "text/plain": [
       "<Figure size 432x288 with 1 Axes>"
      ]
     },
     "metadata": {
      "needs_background": "light"
     },
     "output_type": "display_data"
    }
   ],
   "source": [
    "data = np.concatenate([variables_combined, [costs]], axis=0)\n",
    "data_sorted = data[:, np.argsort(data, axis=-1)[-1]]\n",
    "yp_sorted = get_ys(data_sorted[:-1], wb[:-1], wb[-1])\n",
    "plt.plot(np.arange(len(costs)), data_sorted[-1], 'bo', np.arange(len(costs)), yp_sorted, 'ro')\n",
    "plt.ylabel('Cost')\n",
    "plt.title('True and Predicted Costs')\n",
    "plt.legend(['True', 'Predicted'])\n",
    "plt.show()"
   ]
  },
  {
   "cell_type": "markdown",
   "metadata": {},
   "source": [
    "This error of \\\\$4163.11 is significantly better than our error from before of \\\\$4477.48, but there are outliers near the higher end. We will now filter out any values more than 2 standard deviations from the mean."
   ]
  },
  {
   "cell_type": "code",
   "execution_count": 52,
   "metadata": {},
   "outputs": [
    {
     "name": "stdout",
     "output_type": "stream",
     "text": [
      "Cost mean, std: 13270.422265141257, 12105.484975561612\n"
     ]
    }
   ],
   "source": [
    "print(f'Cost mean, std: {costs.mean()}, {costs.std()}')\n",
    "mean = costs.mean()\n",
    "std = costs.std()\n",
    "lower, upper = mean - 2 * std, mean + 2 * std"
   ]
  },
  {
   "cell_type": "code",
   "execution_count": 53,
   "metadata": {},
   "outputs": [],
   "source": [
    "valid_indices = np.where(np.logical_and(data[-1] < upper, data[-1] > lower))\n",
    "data_valid = data[:, np.array(valid_indices[-1])]"
   ]
  },
  {
   "cell_type": "code",
   "execution_count": 54,
   "metadata": {},
   "outputs": [
    {
     "data": {
      "application/vnd.jupyter.widget-view+json": {
       "model_id": "4c30519d038546f895ebb266ffc82150",
       "version_major": 2,
       "version_minor": 0
      },
      "text/plain": [
       "  0%|          | 0/1000000 [00:00<?, ?it/s]"
      ]
     },
     "metadata": {},
     "output_type": "display_data"
    },
    {
     "name": "stdout",
     "output_type": "stream",
     "text": [
      "Average error: $3130.46\n"
     ]
    }
   ],
   "source": [
    "losses_valid, wb_valid = run_multiple_regressions(data_valid[:-1], data_valid[-1], iterations=1000000, \n",
    "                                                  learning_rate=1e-4)\n",
    "filtered_error = get_errors(data_valid[:-1], data_valid[-1], wb_valid[:-1], wb_valid[-1]).mean()\n",
    "print(f'Average error: ${filtered_error:.2f}')"
   ]
  },
  {
   "cell_type": "code",
   "execution_count": 55,
   "metadata": {},
   "outputs": [
    {
     "data": {
      "image/png": "[encoded data removed]",
      "text/plain": [
       "<Figure size 432x288 with 1 Axes>"
      ]
     },
     "metadata": {
      "needs_background": "light"
     },
     "output_type": "display_data"
    }
   ],
   "source": [
    "plt.plot(losses_valid)\n",
    "plt.xlabel('Iterations')\n",
    "plt.xticks(np.arange(0, 1000001, 200000))\n",
    "plt.ylabel('Loss')\n",
    "plt.title('Loss Per Iteration')\n",
    "plt.show()"
   ]
  },
  {
   "cell_type": "code",
   "execution_count": 56,
   "metadata": {},
   "outputs": [
    {
     "data": {
      "image/png": "[encoded data removed]",
      "text/plain": [
       "<Figure size 432x288 with 1 Axes>"
      ]
     },
     "metadata": {
      "needs_background": "light"
     },
     "output_type": "display_data"
    }
   ],
   "source": [
    "data_valid_sorted = data_valid[:, np.argsort(data_valid, axis=-1)[-1]]\n",
    "yp_valid_sorted = get_ys(data_valid_sorted[:-1], wb[:-1], wb[-1])\n",
    "\n",
    "plt.plot(np.arange(len(data_valid_sorted[-1])), data_valid_sorted[-1], 'bo', \n",
    "         np.arange(len(data_valid_sorted[-1])), yp_valid_sorted, 'ro')\n",
    "plt.ylabel('Cost')\n",
    "plt.title('True and Predicted Costs, Filtered Out Outliers')\n",
    "plt.legend(['True', 'Predicted'])\n",
    "plt.show()"
   ]
  },
  {
   "cell_type": "markdown",
   "metadata": {},
   "source": [
    "This is significantly better with an average error of \\\\$3130.46! Here is a table of our results:"
   ]
  },
  {
   "cell_type": "code",
   "execution_count": 57,
   "metadata": {},
   "outputs": [
    {
     "data": {
      "image/png": "[encoded data removed]",
      "text/plain": [
       "<Figure size 432x288 with 1 Axes>"
      ]
     },
     "metadata": {
      "needs_background": "light"
     },
     "output_type": "display_data"
    }
   ],
   "source": [
    "table_cols = ['Age', 'BMI', 'Children', 'Smoker', 'Sex', 'Northwest', 'Northeast', 'Southeast', \n",
    "              'Southwest', 'Bias', 'Error']\n",
    "table_rows = ['Simple', 'Multiple', 'Multiple, Filtered']\n",
    "table_cells = [\n",
    "    [f'{w:.2f}' for w in (ms_all * m_all)] + [f'{b_all:.2f}', f'${linear_error:.2f}'],\n",
    "    [f'{w:.2f}' for w in wb] + [f'${multiple_error:.2f}'],\n",
    "    [f'{w:.2f}' for w in wb_valid] + [f'${filtered_error:.2f}']\n",
    "]\n",
    "\n",
    "plt.axis('off')\n",
    "plt.table(cellText=table_cells, rowLabels=table_rows, colLabels=table_cols, loc='top', \n",
    "          colWidths=[0.2 for _ in table_cols], colColours=['xkcd:seafoam blue' for _ in table_cols],\n",
    "          rowColours=['xkcd:cloudy blue' for _ in table_rows]\n",
    "  )\n",
    "plt.show()"
   ]
  },
  {
   "cell_type": "markdown",
   "metadata": {},
   "source": [
    "We found a final error of \\\\$3130.46. This is really good, especially around the lower costs. From the graphs, we can see that the error is large for higher costs. This could be due to variables not accounted for in the data, such as previous medical history. For such a small dataset of only 1338, doing any more custom fitting would simply result in an overfit model."
   ]
  }
 ],
 "metadata": {
  "kernelspec": {
   "display_name": "Python 3 (ipykernel)",
   "language": "python",
   "name": "python3"
  },
  "language_info": {
   "codemirror_mode": {
    "name": "ipython",
    "version": 3
   },
   "file_extension": ".py",
   "mimetype": "text/x-python",
   "name": "python",
   "nbconvert_exporter": "python",
   "pygments_lexer": "ipython3",
   "version": "3.9.7"
  }
 },
 "nbformat": 4,
 "nbformat_minor": 4
}
