{
 "cells": [
  {
   "cell_type": "markdown",
   "metadata": {},
   "source": [
    "# U.S. Medical Insurance Costs"
   ]
  },
  {
   "cell_type": "markdown",
   "metadata": {},
   "source": [
    "## Data Parsing\n",
    "We have a csv file with insurance costs in the U.S., containing age, bmi, sex, number of children, smoker status, and geographical region. The following blocks of code load the data and saves it to relevant variables. \n",
    "\n",
    "`insurance_data` contains all of the csv data as a dictionary, with the key being the id (row index).\n",
    "`ages`, `bmis`, `sexes`, `children_nums`, `smokers`, `regions`, and `costs` are all Numpy arrays containing the related data in the same order."
   ]
  },
  {
   "cell_type": "code",
   "execution_count": 1,
   "metadata": {},
   "outputs": [],
   "source": [
    "import csv\n",
    "import numpy as np\n",
    "from matplotlib import pyplot as plt"
   ]
  },
  {
   "cell_type": "code",
   "execution_count": 2,
   "metadata": {},
   "outputs": [
    {
     "name": "stdout",
     "output_type": "stream",
     "text": [
      "Index 0 data: {'age': '19', 'sex': 'female', 'bmi': '27.9', 'children': '0', 'smoker': 'yes', 'region': 'southwest', 'charges': '16884.924'}\n",
      "There are 1338 datapoints in this dataset\n"
     ]
    }
   ],
   "source": [
    "insurance_data = {}\n",
    "\n",
    "with open('insurance.csv') as insurance_csv:\n",
    "    insurance_dict_reader = csv.DictReader(insurance_csv)\n",
    "    for i, row in enumerate(insurance_dict_reader):\n",
    "        insurance_data[i] = row  # The row number becomes the id.\n",
    "\n",
    "print(f'Index 0 data: {insurance_data[0]}')\n",
    "print(f'There are {len(insurance_data.keys())} datapoints in this dataset')"
   ]
  },
  {
   "cell_type": "code",
   "execution_count": 3,
   "metadata": {},
   "outputs": [
    {
     "name": "stdout",
     "output_type": "stream",
     "text": [
      "First 10 ages: [19. 18. 28. 33. 32. 31. 46. 37. 37. 60.]\n"
     ]
    }
   ],
   "source": [
    "# Initialize the data variables as empty lists.\n",
    "ages = []\n",
    "bmis = []\n",
    "sexes = []\n",
    "children_nums = []\n",
    "smokers = []\n",
    "regions = []\n",
    "costs = []\n",
    "\n",
    "# Add the data to each list.\n",
    "for idx in range(len(insurance_data.keys())):\n",
    "    ages.append(insurance_data[idx]['age'])\n",
    "    bmis.append(insurance_data[idx]['bmi'])\n",
    "    sexes.append(insurance_data[idx]['sex'])\n",
    "    children_nums.append(insurance_data[idx]['children'])\n",
    "    smokers.append(insurance_data[idx]['smoker'])\n",
    "    regions.append(insurance_data[idx]['region'])\n",
    "    costs.append(insurance_data[idx]['charges'])\n",
    "    \n",
    "# Convert data variables to Numpy arrays.\n",
    "ages = np.array(ages, dtype=float)\n",
    "bmis = np.array(bmis, dtype=float)\n",
    "sexes = np.array(sexes)\n",
    "children_nums = np.array(children_nums)\n",
    "smokers = np.array(smokers)\n",
    "regions = np.array(regions)\n",
    "costs = np.array(costs)\n",
    "\n",
    "print(f'First 10 ages: {ages[:10]}')"
   ]
  },
  {
   "cell_type": "markdown",
   "metadata": {},
   "source": [
    "## Linear Regression"
   ]
  },
  {
   "cell_type": "code",
   "execution_count": 4,
   "metadata": {},
   "outputs": [],
   "source": [
    "def get_y(m, b, x):\n",
    "    return m * x + b"
   ]
  },
  {
   "cell_type": "code",
   "execution_count": 5,
   "metadata": {},
   "outputs": [],
   "source": [
    "def get_error(m, b, points):\n",
    "    points_x = points[:, 0]\n",
    "    points_y = points[:, 1]\n",
    "    return np.abs(points_y - get_y(m, b, points_x))"
   ]
  },
  {
   "cell_type": "code",
   "execution_count": 6,
   "metadata": {},
   "outputs": [],
   "source": [
    "def linear_regression(ms, bs, points):\n",
    "    m_best = 0\n",
    "    b_best = 0\n",
    "    error = float('inf')\n",
    "    for m in ms:\n",
    "        for b in bs:\n",
    "            if error < get_error(m, b, points).mean():\n",
    "                continue\n",
    "            error = get_error(m, b, points).mean()\n",
    "            m_best = m\n",
    "            b_best = b\n",
    "    return m_best, b_best"
   ]
  },
  {
   "cell_type": "code",
   "execution_count": 7,
   "metadata": {},
   "outputs": [],
   "source": [
    "def get_range_array(center, tolerance_percent=0.1, steps=100):\n",
    "    if abs(center) > 10:\n",
    "        start = center * (1 - tolerance_percent)\n",
    "        stop = center * (1 + tolerance_percent)\n",
    "    else:\n",
    "        start = center - tolerance_percent * steps / 2\n",
    "        stop = center + tolerance_percent * steps / 2\n",
    "    increment = (stop - start) / steps\n",
    "    return np.arange(start, stop+increment, increment)"
   ]
  },
  {
   "cell_type": "code",
   "execution_count": 8,
   "metadata": {},
   "outputs": [],
   "source": [
    "def run_linear_regressions(points, initial_m=250., initial_b=3000.):\n",
    "    m_best = initial_m\n",
    "    b_best = initial_b\n",
    "    for tolerance in [1e1, 1e0, 1e-1, 1e-2, 1e-3]:\n",
    "        m_range = get_range_array(m_best, tolerance)\n",
    "        b_range = get_range_array(b_best, tolerance)\n",
    "        m_best, b_best = linear_regression(m_range, b_range, points)\n",
    "        \n",
    "        # Recenter if any of values are at the edges\n",
    "        move_counter = 0\n",
    "        while m_best in [m_range.min(), m_range.max()] or b_best in [b_range.min(), b_range.max()]:\n",
    "            m_range = get_range_array(m_best, tolerance)\n",
    "            b_range = get_range_array(b_best, tolerance)\n",
    "            m_best, b_best = linear_regression(m_range, b_range, points)\n",
    "            move_counter += 1\n",
    "            if move_counter > 100:\n",
    "                break\n",
    "    return m_best, b_best"
   ]
  },
  {
   "cell_type": "code",
   "execution_count": 9,
   "metadata": {},
   "outputs": [],
   "source": [
    "def get_unique_and_significant_values(values):\n",
    "    values_unique, values_counts = np.unique(values, return_counts=True)\n",
    "    # Values are significant if they represent more than 1% of the data (13 datapoints)\n",
    "    values_significant = np.array([unique for unique, count in zip(values_unique, values_counts)\n",
    "                                   if count > len(values) * 0.01])\n",
    "    return values_unique, values_significant"
   ]
  },
  {
   "cell_type": "markdown",
   "metadata": {},
   "source": [
    "## Age Analysis"
   ]
  },
  {
   "cell_type": "code",
   "execution_count": 10,
   "metadata": {},
   "outputs": [
    {
     "name": "stdout",
     "output_type": "stream",
     "text": [
      "Average age: 39.20702541106129\n"
     ]
    }
   ],
   "source": [
    "print(f'Average age: {ages.mean()}')"
   ]
  },
  {
   "cell_type": "code",
   "execution_count": 11,
   "metadata": {},
   "outputs": [],
   "source": [
    "# Find the unique ages, and then calculate the average cost per unique age\n",
    "ages_unique, ages_significant = get_unique_and_significant_values(ages)\n",
    "avg_cost_per_age = np.array([np.array(costs[ages==i], dtype=float).mean() for i in ages_significant])\n",
    "ages_costs = np.stack([ages_significant, avg_cost_per_age], axis=-1)"
   ]
  },
  {
   "cell_type": "code",
   "execution_count": 12,
   "metadata": {},
   "outputs": [
    {
     "name": "stdout",
     "output_type": "stream",
     "text": [
      "253.46636682595246 3079.635454108041 1816.387347274485\n"
     ]
    }
   ],
   "source": [
    "m_age, b_age = run_linear_regressions(ages_costs, 10000, 3000)\n",
    "print(m_age, b_age, get_error(m_age, b_age, ages_costs).mean())"
   ]
  },
  {
   "cell_type": "code",
   "execution_count": 13,
   "metadata": {},
   "outputs": [
    {
     "data": {
      "image/png": "[encoded data removed]",
      "text/plain": [
       "<Figure size 432x288 with 1 Axes>"
      ]
     },
     "metadata": {
      "needs_background": "light"
     },
     "output_type": "display_data"
    }
   ],
   "source": [
    "# From the linear regression, we got m=253.5 and b=3078.5. Here, we'll plot that\n",
    "predicted_ys = get_y(m_age, b_age, ages_costs[:, 0])\n",
    "plt.plot(ages_costs[:, 0], ages_costs[:, 1], 'bo', ages_costs[:, 0], predicted_ys)\n",
    "plt.show()"
   ]
  },
  {
   "cell_type": "markdown",
   "metadata": {},
   "source": [
    "## BMI Analysis"
   ]
  },
  {
   "cell_type": "code",
   "execution_count": 14,
   "metadata": {},
   "outputs": [
    {
     "name": "stdout",
     "output_type": "stream",
     "text": [
      "Average BMI: 30.66339686098655\n"
     ]
    }
   ],
   "source": [
    "print(f'Average BMI: {bmis.mean()}')"
   ]
  },
  {
   "cell_type": "code",
   "execution_count": 15,
   "metadata": {},
   "outputs": [],
   "source": [
    "bmis_rounded = np.around(bmis)\n",
    "bmis_unique, bmis_significant = get_unique_and_significant_values(bmis_rounded)\n",
    "avg_cost_per_bmi = np.array([np.array(costs[bmis_rounded==i], dtype=float).mean() for i in bmis_significant])\n",
    "bmis_costs = np.stack([bmis_significant, avg_cost_per_bmi], axis=-1)"
   ]
  },
  {
   "cell_type": "code",
   "execution_count": 16,
   "metadata": {},
   "outputs": [
    {
     "name": "stdout",
     "output_type": "stream",
     "text": [
      "463.89138985739936 -565.0329577765034 1516.4790442122558\n"
     ]
    }
   ],
   "source": [
    "m_bmi, b_bmi = run_linear_regressions(bmis_costs)\n",
    "print(m_bmi, b_bmi, get_error(m_bmi, b_bmi, bmis_costs).mean())"
   ]
  },
  {
   "cell_type": "code",
   "execution_count": 17,
   "metadata": {},
   "outputs": [
    {
     "data": {
      "image/png": "[encoded data removed]",
      "text/plain": [
       "<Figure size 432x288 with 1 Axes>"
      ]
     },
     "metadata": {
      "needs_background": "light"
     },
     "output_type": "display_data"
    }
   ],
   "source": [
    "# Plot the results of the linear regression\n",
    "predicted_ys = get_y(m_bmi, b_bmi, bmis_costs[:, 0])\n",
    "plt.plot(bmis_costs[:, 0], bmis_costs[:, 1], 'bo', bmis_costs[:, 0], predicted_ys)\n",
    "plt.show()"
   ]
  },
  {
   "cell_type": "code",
   "execution_count": null,
   "metadata": {},
   "outputs": [],
   "source": []
  }
 ],
 "metadata": {
  "kernelspec": {
   "display_name": "Python 3 (ipykernel)",
   "language": "python",
   "name": "python3"
  },
  "language_info": {
   "codemirror_mode": {
    "name": "ipython",
    "version": 3
   },
   "file_extension": ".py",
   "mimetype": "text/x-python",
   "name": "python",
   "nbconvert_exporter": "python",
   "pygments_lexer": "ipython3",
   "version": "3.9.7"
  }
 },
 "nbformat": 4,
 "nbformat_minor": 4
}
